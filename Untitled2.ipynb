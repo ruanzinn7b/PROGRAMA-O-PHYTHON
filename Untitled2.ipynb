{
  "nbformat": 4,
  "nbformat_minor": 0,
  "metadata": {
    "colab": {
      "provenance": [],
      "authorship_tag": "ABX9TyNHF49vAMuQ/VuijrjMnPb3",
      "include_colab_link": true
    },
    "kernelspec": {
      "name": "python3",
      "display_name": "Python 3"
    },
    "language_info": {
      "name": "python"
    }
  },
  "cells": [
    {
      "cell_type": "markdown",
      "metadata": {
        "id": "view-in-github",
        "colab_type": "text"
      },
      "source": [
        "<a href=\"https://colab.research.google.com/github/ruanzinn7b/PROGRAMA-O-PHYTHON/blob/main/Untitled2.ipynb\" target=\"_parent\"><img src=\"https://colab.research.google.com/assets/colab-badge.svg\" alt=\"Open In Colab\"/></a>"
      ]
    },
    {
      "cell_type": "code",
      "source": [
        "#para usar a biblioteca random, é preciso importá-la\n",
        "import random\n",
        "\n",
        "\n",
        "# criar uma lista com tamanho aleatório (entre 0 e 50)\n",
        "nums2 = []\n",
        "for num in range(random.randrange(0,50)):\n",
        "  nums2.append(num)\n",
        "  \n",
        "nums2"
      ],
      "metadata": {
        "colab": {
          "base_uri": "https://localhost:8080/"
        },
        "id": "J4wFhLcWwjuh",
        "outputId": "8da3f944-0737-4559-b2ad-f7ef177ee966"
      },
      "execution_count": null,
      "outputs": [
        {
          "output_type": "execute_result",
          "data": {
            "text/plain": [
              "[0,\n",
              " 1,\n",
              " 2,\n",
              " 3,\n",
              " 4,\n",
              " 5,\n",
              " 6,\n",
              " 7,\n",
              " 8,\n",
              " 9,\n",
              " 10,\n",
              " 11,\n",
              " 12,\n",
              " 13,\n",
              " 14,\n",
              " 15,\n",
              " 16,\n",
              " 17,\n",
              " 18,\n",
              " 19,\n",
              " 20,\n",
              " 21,\n",
              " 22,\n",
              " 23,\n",
              " 24,\n",
              " 25,\n",
              " 26,\n",
              " 27,\n",
              " 28,\n",
              " 29,\n",
              " 30]"
            ]
          },
          "metadata": {},
          "execution_count": 24
        }
      ]
    },
    {
      "cell_type": "code",
      "source": [
        "objetos = [ 'carro','moto','caminhao','bicicleta']\n"
      ],
      "metadata": {
        "id": "lF5vyQkxvlwx"
      },
      "execution_count": null,
      "outputs": []
    },
    {
      "cell_type": "code",
      "source": [
        "#laço for\n",
        "for obj in objetos:\n",
        "  print(obj)\n"
      ],
      "metadata": {
        "colab": {
          "base_uri": "https://localhost:8080/"
        },
        "id": "KkI2g73rv-Er",
        "outputId": "8647f9bb-3931-4dfb-8884-e9065bfce301"
      },
      "execution_count": null,
      "outputs": [
        {
          "output_type": "stream",
          "name": "stdout",
          "text": [
            "carro\n",
            "moto\n",
            "caminhao\n",
            "bicicleta\n"
          ]
        }
      ]
    },
    {
      "cell_type": "code",
      "execution_count": null,
      "metadata": {
        "colab": {
          "base_uri": "https://localhost:8080/"
        },
        "id": "P9BM3PrxtC_5",
        "outputId": "39ccf327-8ef7-4d61-cce1-573a473dd042"
      },
      "outputs": [
        {
          "output_type": "execute_result",
          "data": {
            "text/plain": [
              "[0, 1, 2, 3, 4, 5, 6, 7]"
            ]
          },
          "metadata": {},
          "execution_count": 23
        }
      ],
      "source": [
        "\n",
        "# criar uma lista com numeros de 1 a 15\n",
        "numeros = []\n",
        "for num in range(8):\n",
        "  numeros.append(num)\n",
        "  \n",
        "numeros\n",
        "\n",
        "\n",
        "\n",
        "\n",
        "\n",
        "\n",
        "\n",
        "\n",
        "\n",
        "\n",
        "\n"
      ]
    },
    {
      "cell_type": "code",
      "source": [
        " #(parentesis)descobrir se um numero é par\n",
        "a = int(input('digite um numero'))\n",
        "if a % 2 == 0:\n",
        "  print('é par')\n",
        "else:\n",
        "  print('é impar')\n"
      ],
      "metadata": {
        "colab": {
          "base_uri": "https://localhost:8080/"
        },
        "id": "qL8ii9-VzWAA",
        "outputId": "858c4def-a0e0-4596-daf0-e55abddaa474"
      },
      "execution_count": null,
      "outputs": [
        {
          "output_type": "stream",
          "name": "stdout",
          "text": [
            "digite um numero49\n",
            "é impar\n"
          ]
        }
      ]
    },
    {
      "cell_type": "code",
      "source": [
        "#printar os numeros pares positivos até 50\n",
        "numpares = []\n",
        "for num in range(51):\n",
        "  if(num % 2 == 0):\n",
        "    numpares.append(num)\n",
        "numpares"
      ],
      "metadata": {
        "colab": {
          "base_uri": "https://localhost:8080/"
        },
        "id": "ZHo2Mjfy2Hqv",
        "outputId": "d7476d9a-72bb-4646-c95e-624c91df3342"
      },
      "execution_count": null,
      "outputs": [
        {
          "output_type": "execute_result",
          "data": {
            "text/plain": [
              "[0,\n",
              " 2,\n",
              " 4,\n",
              " 6,\n",
              " 8,\n",
              " 10,\n",
              " 12,\n",
              " 14,\n",
              " 16,\n",
              " 18,\n",
              " 20,\n",
              " 22,\n",
              " 24,\n",
              " 26,\n",
              " 28,\n",
              " 30,\n",
              " 32,\n",
              " 34,\n",
              " 36,\n",
              " 38,\n",
              " 40,\n",
              " 42,\n",
              " 44,\n",
              " 46,\n",
              " 48,\n",
              " 50]"
            ]
          },
          "metadata": {},
          "execution_count": 33
        }
      ]
    },
    {
      "cell_type": "code",
      "source": [
        "#retorne a soma dos numeros de 1 a 100\n",
        "soma = 0\n",
        "for n in range(101):\n",
        "  soma = soma+n\n",
        "\n",
        "soma\n",
        "\n",
        "\n",
        " \n"
      ],
      "metadata": {
        "colab": {
          "base_uri": "https://localhost:8080/"
        },
        "id": "pYSHl50N4DYs",
        "outputId": "06d3a9a2-6090-4ff8-e61f-8fca2103b083"
      },
      "execution_count": null,
      "outputs": [
        {
          "output_type": "execute_result",
          "data": {
            "text/plain": [
              "5050"
            ]
          },
          "metadata": {},
          "execution_count": 34
        }
      ]
    },
    {
      "cell_type": "code",
      "source": [
        "#criar um programa que lista os numeros de 1 a 10\n",
        "##precisamos de um contador!\n",
        "cont = 0\n",
        "while (cont < 10):\n",
        "  print(cont +1)\n",
        "  cont+=1\n",
        "  "
      ],
      "metadata": {
        "colab": {
          "base_uri": "https://localhost:8080/"
        },
        "id": "vy529AmV83TB",
        "outputId": "f6f7b9be-716c-49df-c1ee-d7b202bd435e"
      },
      "execution_count": null,
      "outputs": [
        {
          "output_type": "stream",
          "name": "stdout",
          "text": [
            "1\n",
            "2\n",
            "3\n",
            "4\n",
            "5\n",
            "6\n",
            "7\n",
            "8\n",
            "9\n",
            "10\n"
          ]
        }
      ]
    },
    {
      "cell_type": "code",
      "source": [
        "#pede ao usario para inserir um número inteiro maior que 1\n",
        "#o programa deve imprimir todos os números até o número digitado.\n",
        "\n",
        "cont = 0\n",
        "numero = int(input('digite um numero '))\n",
        " \n",
        "while (cont <= numero):\n",
        "  print(cont)\n",
        "  cont+=1\n",
        "   "
      ],
      "metadata": {
        "colab": {
          "base_uri": "https://localhost:8080/"
        },
        "id": "yhMbh9zT-oo_",
        "outputId": "3a0524a7-f915-4215-d978-d1c2ffeff555"
      },
      "execution_count": 39,
      "outputs": [
        {
          "output_type": "stream",
          "name": "stdout",
          "text": [
            "digite um numero 5\n",
            "0\n",
            "1\n",
            "2\n",
            "3\n",
            "4\n",
            "5\n"
          ]
        }
      ]
    },
    {
      "cell_type": "code",
      "source": [
        " #cria uma lista de compras, encerra caso digite 0.\n",
        "comprasLista = []\n",
        " \n",
        "item = input('digite o item: ')\n",
        "\n",
        "while (item != '0'):\n",
        "  comprasLista.append(item)\n",
        "  item = input('digite o item: ')\n",
        "\n",
        "comprasLista\n"
      ],
      "metadata": {
        "id": "7gyhcmYUCOrL"
      },
      "execution_count": null,
      "outputs": []
    }
  ]
}