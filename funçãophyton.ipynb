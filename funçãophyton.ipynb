{
  "nbformat": 4,
  "nbformat_minor": 0,
  "metadata": {
    "colab": {
      "provenance": [],
      "authorship_tag": "ABX9TyMq0KgbG1mLmlc1ezmSX/1t",
      "include_colab_link": true
    },
    "kernelspec": {
      "name": "python3",
      "display_name": "Python 3"
    },
    "language_info": {
      "name": "python"
    }
  },
  "cells": [
    {
      "cell_type": "markdown",
      "metadata": {
        "id": "view-in-github",
        "colab_type": "text"
      },
      "source": [
        "<a href=\"https://colab.research.google.com/github/ruanzinn7b/PROGRAMA-O-PHYTHON/blob/main/fun%C3%A7%C3%A3ophyton.ipynb\" target=\"_parent\"><img src=\"https://colab.research.google.com/assets/colab-badge.svg\" alt=\"Open In Colab\"/></a>"
      ]
    },
    {
      "cell_type": "code",
      "source": [],
      "metadata": {
        "id": "ZUkUszC1yCfH"
      },
      "execution_count": null,
      "outputs": []
    },
    {
      "cell_type": "code",
      "execution_count": 11,
      "metadata": {
        "colab": {
          "base_uri": "https://localhost:8080/"
        },
        "id": "xnpm5jYMuh6z",
        "outputId": "44f1c7b6-cf7c-41db-f8b3-20dfa710c8e5"
      },
      "outputs": [
        {
          "output_type": "stream",
          "name": "stdout",
          "text": [
            "chute um numero entre 0 e 100: 43\n",
            "chute um numero entre 43 e 100: 60\n",
            "chute um numero entre 60 e 100: 85\n",
            "chute um numero entre 60 e 85: 74\n",
            "chute um numero entre 60 e 74: 70\n",
            "chute um numero entre 60 e 70: 65\n",
            "chute um numero entre 60 e 65: 63\n",
            "ACERTOU,MIZERAVE! 7 tentativas!\n"
          ]
        }
      ],
      "source": [
        "import random\n",
        "\n",
        "num = random.randrange(101)\n",
        "mínimo = 0\n",
        "máximo = 100\n",
        "pitaco = int(input(f'chute um numero entre {mínimo} e {máximo}: '))\n",
        "cont = 1\n",
        "\n",
        "while(num != pitaco):\n",
        " if(pitaco > num):\n",
        "   máximo = pitaco\n",
        " else:\n",
        "    mínimo = pitaco\n",
        " pitaco = int(input(f'chute um numero entre {mínimo} e {máximo}: '))\n",
        " cont+=1\n",
        "\n",
        "print(f'ACERTOU,MIZERAVE! {cont} tentativas!')    \n",
        "     "
      ]
    },
    {
      "cell_type": "code",
      "source": [
        "#declaração da função\n",
        "def primeiraFuncao():\n",
        "  print('primeira funcao,ó!')\n",
        "\n",
        "#chamando a função\n",
        "primeiraFuncao() "
      ],
      "metadata": {
        "colab": {
          "base_uri": "https://localhost:8080/"
        },
        "id": "W_e7mMMg27gF",
        "outputId": "5ea67985-dcc1-480f-a63b-b00379362cc7"
      },
      "execution_count": 12,
      "outputs": [
        {
          "output_type": "stream",
          "name": "stdout",
          "text": [
            "primeira funcao,ó!\n"
          ]
        }
      ]
    },
    {
      "cell_type": "code",
      "source": [
        "def pronomeTratam(pronome):\n",
        "  print(pronome,\" pablo \")\n",
        "  "
      ],
      "metadata": {
        "id": "-G2XyieW4d8O"
      },
      "execution_count": 14,
      "outputs": []
    },
    {
      "cell_type": "code",
      "source": [
        "pronomeTratam('Doutor')\n",
        "pronomeTratam('Ilmo')\n",
        "pronomeTratam('Seu')"
      ],
      "metadata": {
        "colab": {
          "base_uri": "https://localhost:8080/"
        },
        "id": "LzJpWrFW4sU3",
        "outputId": "6218a425-bb84-4d07-f334-54d0c5f0a131"
      },
      "execution_count": 15,
      "outputs": [
        {
          "output_type": "stream",
          "name": "stdout",
          "text": [
            "Doutor  pablo \n",
            "Ilmo  pablo \n",
            "Seu  pablo \n"
          ]
        }
      ]
    },
    {
      "cell_type": "code",
      "source": [
        "#uma função deve ser chamada com o numero certinho\n",
        "def boasVindas(nome,cargo):\n",
        "  print('Olá, '+ cargo + ' '+ nome)\n",
        "  "
      ],
      "metadata": {
        "id": "6ZfT2BGL50Gv"
      },
      "execution_count": 16,
      "outputs": []
    },
    {
      "cell_type": "code",
      "source": [
        "boasVindas(\"Amaralina\", \"Engenharia\")\n",
        "boasVindas(\"Jorge\", \"Carimbador\")\n",
        "boasVindas(\"Maria\", \"Sargento\")\n",
        "\n",
        "#Experimente passar apenas um dos parâmetros\n"
      ],
      "metadata": {
        "colab": {
          "base_uri": "https://localhost:8080/"
        },
        "id": "V8U-7LLW6jWF",
        "outputId": "3f45f22e-19ce-418b-918d-75a7ec20fa12"
      },
      "execution_count": 19,
      "outputs": [
        {
          "output_type": "stream",
          "name": "stdout",
          "text": [
            "Olá, Engenharia Amaralina\n",
            "Olá, Carimbador Jorge\n",
            "Olá, Sargento Maria\n"
          ]
        }
      ]
    },
    {
      "cell_type": "code",
      "source": [
        "def funcaoSemNome(nome, anoNascim):\n",
        "  idade = 2023 - anoNascim\n",
        "  print(nome, idade)\n",
        "  "
      ],
      "metadata": {
        "id": "LsuJfONp7pzU"
      },
      "execution_count": 20,
      "outputs": []
    },
    {
      "cell_type": "code",
      "source": [
        "funcaoSemNome('Ruan', 2004)"
      ],
      "metadata": {
        "colab": {
          "base_uri": "https://localhost:8080/"
        },
        "id": "RZXwbH7r8B7y",
        "outputId": "5cfd9f06-9c73-40aa-9ca9-e17e1ad8645b"
      },
      "execution_count": 21,
      "outputs": [
        {
          "output_type": "stream",
          "name": "stdout",
          "text": [
            "Ruan 19\n"
          ]
        }
      ]
    },
    {
      "cell_type": "code",
      "source": [
        "def media(*notas):\n",
        "  soma = 0\n",
        "  for nota in notas:\n",
        "    soma += nota\n",
        "    print(soma / Ien(notas))\n",
        "\n"
      ],
      "metadata": {
        "id": "ydJQkkjk8iFe"
      },
      "execution_count": 33,
      "outputs": []
    },
    {
      "cell_type": "code",
      "source": [
        "somaNotas (8,5,3,7,2,10)"
      ],
      "metadata": {
        "colab": {
          "base_uri": "https://localhost:8080/"
        },
        "id": "dnHR_4879qT2",
        "outputId": "d9812351-518b-4f80-f957-0fc572de670d"
      },
      "execution_count": 37,
      "outputs": [
        {
          "output_type": "stream",
          "name": "stdout",
          "text": [
            "8\n",
            "13\n",
            "16\n",
            "23\n",
            "25\n",
            "35\n"
          ]
        }
      ]
    },
    {
      "cell_type": "code",
      "source": [
        "#Valor de parâmetro padrão\n",
        "def nacionalidade(country = 'Cuba'):\n",
        "  print('Eu nasci em: '+ country)\n",
        "  "
      ],
      "metadata": {
        "id": "KHDNzsDH_8m8"
      },
      "execution_count": 30,
      "outputs": []
    },
    {
      "cell_type": "code",
      "source": [
        "nacionalidade('Brasil')\n",
        "nacionalidade('França')\n",
        "nacionalidade('belgica')\n",
        "nacionalidade()"
      ],
      "metadata": {
        "colab": {
          "base_uri": "https://localhost:8080/"
        },
        "id": "7lQw07swAwMJ",
        "outputId": "b5f94dc5-72e2-401e-85e2-93cf5a753e3e"
      },
      "execution_count": 32,
      "outputs": [
        {
          "output_type": "stream",
          "name": "stdout",
          "text": [
            "Eu nasci em: Brasil\n",
            "Eu nasci em: França\n",
            "Eu nasci em: belgica\n",
            "Eu nasci em: Cuba\n"
          ]
        }
      ]
    },
    {
      "cell_type": "code",
      "source": [
        "def imc(peso, altura):\n",
        "  return peso/altura**2\n",
        "  "
      ],
      "metadata": {
        "id": "XYgC8UQ6Cy9p"
      },
      "execution_count": 38,
      "outputs": []
    },
    {
      "cell_type": "code",
      "source": [
        "def situacaoPeso(imc):\n",
        "  if(imc < 18.5):\n",
        "    print('Abaixo do peso normal')\n",
        "  elif(imc < 24.9):\n",
        "    print('Peso normal')\n",
        "  else:\n",
        "    print('Obesidade')\n",
        "    "
      ],
      "metadata": {
        "id": "hKDdrojpDJXv"
      },
      "execution_count": 39,
      "outputs": []
    },
    {
      "cell_type": "code",
      "source": [
        "situacaoPeso(imc(83, 1.65))"
      ],
      "metadata": {
        "colab": {
          "base_uri": "https://localhost:8080/"
        },
        "id": "8r8j3MQbD89Z",
        "outputId": "082a43e8-c9d4-4991-c551-2f147fb6f88a"
      },
      "execution_count": 40,
      "outputs": [
        {
          "output_type": "stream",
          "name": "stdout",
          "text": [
            "Obesidade\n"
          ]
        }
      ]
    }
  ]
}