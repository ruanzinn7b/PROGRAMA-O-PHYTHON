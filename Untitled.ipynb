{
  "nbformat": 4,
  "nbformat_minor": 0,
  "metadata": {
    "colab": {
      "provenance": [],
      "authorship_tag": "ABX9TyNoYwam0sNB6MMJa7piKnCP",
      "include_colab_link": true
    },
    "kernelspec": {
      "name": "python3",
      "display_name": "Python 3"
    },
    "language_info": {
      "name": "python"
    }
  },
  "cells": [
    {
      "cell_type": "markdown",
      "metadata": {
        "id": "view-in-github",
        "colab_type": "text"
      },
      "source": [
        "<a href=\"https://colab.research.google.com/github/ruanzinn7b/PROGRAMA-O-PHYTHON/blob/main/Untitled.ipynb\" target=\"_parent\"><img src=\"https://colab.research.google.com/assets/colab-badge.svg\" alt=\"Open In Colab\"/></a>"
      ]
    },
    {
      "cell_type": "code",
      "execution_count": 3,
      "metadata": {
        "colab": {
          "base_uri": "https://localhost:8080/"
        },
        "id": "cXuq1PnTHElA",
        "outputId": "06ad3138-3617-4c3f-d782-92192fd22411"
      },
      "outputs": [
        {
          "output_type": "execute_result",
          "data": {
            "text/plain": [
              "{'Andre': 8.5,\n",
              " 'Ana': 7.0,\n",
              " 'chico': 6.0,\n",
              " 'Nubia': 10,\n",
              " 'Luana': 8,\n",
              " 'Julio': 5.5,\n",
              " 'Aristoteles': 6.0,\n",
              " 'Sebastian': 9.5,\n",
              " 'Camila': 10,\n",
              " 'João': 5}"
            ]
          },
          "metadata": {},
          "execution_count": 3
        }
      ],
      "source": [
        "provaA = {'Andre': 8.5, 'Ana':7.0,'chico': 6.0,'Nubia':10,'Luana':8}\n",
        "provaB = {'Julio': 5.5,'Aristoteles': 6.0,'Sebastian': 9.5,'Camila': 10,'João': 5}\n",
        "\n",
        "resultado_final = {} #novo dicionario resultado_final\n",
        "resultado_final.update(provaA)\n",
        "resultado_final.update(provaB)\n",
        "\n",
        "resultado_final\n"
      ]
    },
    {
      "cell_type": "code",
      "source": [
        "#ordenação\n",
        "sorted(resultado_final, key = resultado_final.get, reverse= True)"
      ],
      "metadata": {
        "colab": {
          "base_uri": "https://localhost:8080/"
        },
        "id": "LMGXf3wjJR9J",
        "outputId": "8905605b-15d6-4ab1-c32d-260c76bec5eb"
      },
      "execution_count": 5,
      "outputs": [
        {
          "output_type": "execute_result",
          "data": {
            "text/plain": [
              "['Nubia',\n",
              " 'Camila',\n",
              " 'Sebastian',\n",
              " 'Andre',\n",
              " 'Luana',\n",
              " 'Ana',\n",
              " 'chico',\n",
              " 'Aristoteles',\n",
              " 'Julio',\n",
              " 'João']"
            ]
          },
          "metadata": {},
          "execution_count": 5
        }
      ]
    },
    {
      "cell_type": "code",
      "source": [
        "#ordenação\n",
        "sorted(resultado_final.items(),key = lambda x: x[1], reverse=True) #ordenação crescente"
      ],
      "metadata": {
        "colab": {
          "base_uri": "https://localhost:8080/"
        },
        "id": "1TOAo9AmJuCu",
        "outputId": "b161e491-6f14-4663-f556-55837937e310"
      },
      "execution_count": 9,
      "outputs": [
        {
          "output_type": "execute_result",
          "data": {
            "text/plain": [
              "[('Nubia', 10),\n",
              " ('Camila', 10),\n",
              " ('Sebastian', 9.5),\n",
              " ('Andre', 8.5),\n",
              " ('Luana', 8),\n",
              " ('Ana', 7.0),\n",
              " ('chico', 6.0),\n",
              " ('Aristoteles', 6.0),\n",
              " ('Julio', 5.5),\n",
              " ('João', 5)]"
            ]
          },
          "metadata": {},
          "execution_count": 9
        }
      ]
    },
    {
      "cell_type": "code",
      "source": [
        "listaCanditados = list(resultado_final.keys())\n",
        "listaCanditados\n"
      ],
      "metadata": {
        "colab": {
          "base_uri": "https://localhost:8080/"
        },
        "id": "uDFkgVTiK3_e",
        "outputId": "228cad9f-63ff-4133-a656-170fc73bcd8d"
      },
      "execution_count": 10,
      "outputs": [
        {
          "output_type": "execute_result",
          "data": {
            "text/plain": [
              "['Andre',\n",
              " 'Ana',\n",
              " 'chico',\n",
              " 'Nubia',\n",
              " 'Luana',\n",
              " 'Julio',\n",
              " 'Aristoteles',\n",
              " 'Sebastian',\n",
              " 'Camila',\n",
              " 'João']"
            ]
          },
          "metadata": {},
          "execution_count": 10
        }
      ]
    },
    {
      "cell_type": "code",
      "source": [
        "listaNotas = list(resultado_final.values())\n",
        "listaNotas"
      ],
      "metadata": {
        "colab": {
          "base_uri": "https://localhost:8080/"
        },
        "id": "Os1LgJHgMb1V",
        "outputId": "812b2caf-ab1b-47aa-856f-71795b0eb5a0"
      },
      "execution_count": 11,
      "outputs": [
        {
          "output_type": "execute_result",
          "data": {
            "text/plain": [
              "[8.5, 7.0, 6.0, 10, 8, 5.5, 6.0, 9.5, 10, 5]"
            ]
          },
          "metadata": {},
          "execution_count": 11
        }
      ]
    },
    {
      "cell_type": "code",
      "source": [
        "resultado_final.get('epami')"
      ],
      "metadata": {
        "id": "ecnlhxwZRUkT"
      },
      "execution_count": null,
      "outputs": []
    }
  ]
}